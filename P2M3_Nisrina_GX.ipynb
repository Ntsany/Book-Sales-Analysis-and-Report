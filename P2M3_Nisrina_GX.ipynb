{
 "cells": [
  {
   "cell_type": "code",
   "execution_count": 19,
   "metadata": {},
   "outputs": [],
   "source": [
    "import pandas as pd\n",
    "import great_expectations as ge"
   ]
  },
  {
   "cell_type": "code",
   "execution_count": 20,
   "metadata": {},
   "outputs": [],
   "source": [
    "# Load the cleaned dataset\n",
    "file_path = \"P2M3_Nisrina_data_clean.csv\"\n",
    "df = pd.read_csv(file_path)\n",
    "# Inisialisasi dataset dengan Great Expectations\n",
    "dataset = ge.from_pandas(df)"
   ]
  },
  {
   "cell_type": "code",
   "execution_count": 21,
   "metadata": {},
   "outputs": [
    {
     "data": {
      "text/plain": [
       "{\n",
       "  \"success\": true,\n",
       "  \"result\": {\n",
       "    \"element_count\": 1064,\n",
       "    \"missing_count\": 0,\n",
       "    \"missing_percent\": 0.0,\n",
       "    \"unexpected_count\": 0,\n",
       "    \"unexpected_percent\": 0.0,\n",
       "    \"unexpected_percent_total\": 0.0,\n",
       "    \"unexpected_percent_nonmissing\": 0.0,\n",
       "    \"partial_unexpected_list\": []\n",
       "  },\n",
       "  \"meta\": {},\n",
       "  \"exception_info\": {\n",
       "    \"raised_exception\": false,\n",
       "    \"exception_traceback\": null,\n",
       "    \"exception_message\": null\n",
       "  }\n",
       "}"
      ]
     },
     "execution_count": 21,
     "metadata": {},
     "output_type": "execute_result"
    }
   ],
   "source": [
    "# 1. to be unique: Expect a column to be unique\n",
    "dataset.expect_column_values_to_be_unique(column=\"index\")"
   ]
  },
  {
   "cell_type": "code",
   "execution_count": 22,
   "metadata": {},
   "outputs": [
    {
     "data": {
      "text/plain": [
       "{\n",
       "  \"success\": true,\n",
       "  \"result\": {\n",
       "    \"element_count\": 1064,\n",
       "    \"missing_count\": 0,\n",
       "    \"missing_percent\": 0.0,\n",
       "    \"unexpected_count\": 0,\n",
       "    \"unexpected_percent\": 0.0,\n",
       "    \"unexpected_percent_total\": 0.0,\n",
       "    \"unexpected_percent_nonmissing\": 0.0,\n",
       "    \"partial_unexpected_list\": []\n",
       "  },\n",
       "  \"meta\": {},\n",
       "  \"exception_info\": {\n",
       "    \"raised_exception\": false,\n",
       "    \"exception_traceback\": null,\n",
       "    \"exception_message\": null\n",
       "  }\n",
       "}"
      ]
     },
     "execution_count": 22,
     "metadata": {},
     "output_type": "execute_result"
    }
   ],
   "source": [
    "# 2.1 to be between min and max: Expect \"publishing_year\" to be between 1900 and 2025\n",
    "dataset.expect_column_values_to_be_between(column=\"publishing_year\", min_value=1300, max_value=2025)\n"
   ]
  },
  {
   "cell_type": "code",
   "execution_count": 23,
   "metadata": {},
   "outputs": [
    {
     "data": {
      "text/plain": [
       "{\n",
       "  \"success\": true,\n",
       "  \"result\": {\n",
       "    \"element_count\": 1064,\n",
       "    \"missing_count\": 0,\n",
       "    \"missing_percent\": 0.0,\n",
       "    \"unexpected_count\": 0,\n",
       "    \"unexpected_percent\": 0.0,\n",
       "    \"unexpected_percent_total\": 0.0,\n",
       "    \"unexpected_percent_nonmissing\": 0.0,\n",
       "    \"partial_unexpected_list\": []\n",
       "  },\n",
       "  \"meta\": {},\n",
       "  \"exception_info\": {\n",
       "    \"raised_exception\": false,\n",
       "    \"exception_traceback\": null,\n",
       "    \"exception_message\": null\n",
       "  }\n",
       "}"
      ]
     },
     "execution_count": 23,
     "metadata": {},
     "output_type": "execute_result"
    }
   ],
   "source": [
    "# 2.2 Expect \"units_sold\" to be between 0 and 100000\n",
    "dataset.expect_column_values_to_be_between(column=\"units_sold\", min_value=0, max_value=80000)\n"
   ]
  },
  {
   "cell_type": "code",
   "execution_count": 24,
   "metadata": {},
   "outputs": [
    {
     "data": {
      "text/plain": [
       "{\n",
       "  \"success\": true,\n",
       "  \"result\": {\n",
       "    \"element_count\": 1064,\n",
       "    \"missing_count\": 0,\n",
       "    \"missing_percent\": 0.0,\n",
       "    \"unexpected_count\": 0,\n",
       "    \"unexpected_percent\": 0.0,\n",
       "    \"unexpected_percent_total\": 0.0,\n",
       "    \"unexpected_percent_nonmissing\": 0.0,\n",
       "    \"partial_unexpected_list\": []\n",
       "  },\n",
       "  \"meta\": {},\n",
       "  \"exception_info\": {\n",
       "    \"raised_exception\": false,\n",
       "    \"exception_traceback\": null,\n",
       "    \"exception_message\": null\n",
       "  }\n",
       "}"
      ]
     },
     "execution_count": 24,
     "metadata": {},
     "output_type": "execute_result"
    }
   ],
   "source": [
    "# 2.3 Expect \"sales_rank\" to be between 1 and 2000\n",
    "dataset.expect_column_values_to_be_between(column=\"sales_rank\", min_value=1, max_value=2000)\n"
   ]
  },
  {
   "cell_type": "code",
   "execution_count": 25,
   "metadata": {},
   "outputs": [
    {
     "data": {
      "text/plain": [
       "{\n",
       "  \"success\": true,\n",
       "  \"result\": {\n",
       "    \"element_count\": 1064,\n",
       "    \"missing_count\": 0,\n",
       "    \"missing_percent\": 0.0,\n",
       "    \"unexpected_count\": 0,\n",
       "    \"unexpected_percent\": 0.0,\n",
       "    \"unexpected_percent_total\": 0.0,\n",
       "    \"unexpected_percent_nonmissing\": 0.0,\n",
       "    \"partial_unexpected_list\": []\n",
       "  },\n",
       "  \"meta\": {},\n",
       "  \"exception_info\": {\n",
       "    \"raised_exception\": false,\n",
       "    \"exception_traceback\": null,\n",
       "    \"exception_message\": null\n",
       "  }\n",
       "}"
      ]
     },
     "execution_count": 25,
     "metadata": {},
     "output_type": "execute_result"
    }
   ],
   "source": [
    "# 3. to be in set: Expect a column to have values in a set\n",
    "dataset.expect_column_values_to_be_in_set(\n",
    "    column=\"language_code\",\n",
    "    value_set=[\"en-US\", \"eng\", \"spa\", \"en-GB\", \"fre\", \"en-CA\", \"nl\",\"ara\"]\n",
    ")\n"
   ]
  },
  {
   "cell_type": "code",
   "execution_count": 26,
   "metadata": {},
   "outputs": [
    {
     "data": {
      "text/plain": [
       "{\n",
       "  \"success\": true,\n",
       "  \"result\": {\n",
       "    \"observed_value\": \"int64\"\n",
       "  },\n",
       "  \"meta\": {},\n",
       "  \"exception_info\": {\n",
       "    \"raised_exception\": false,\n",
       "    \"exception_traceback\": null,\n",
       "    \"exception_message\": null\n",
       "  }\n",
       "}"
      ]
     },
     "execution_count": 26,
     "metadata": {},
     "output_type": "execute_result"
    }
   ],
   "source": [
    "# 4. to be in type list: Expect a column to have a specific data type\n",
    "dataset.expect_column_values_to_be_of_type(column=\"publishing_year\", type_=\"int64\")\n"
   ]
  },
  {
   "cell_type": "code",
   "execution_count": 27,
   "metadata": {},
   "outputs": [
    {
     "data": {
      "text/plain": [
       "{\n",
       "  \"success\": true,\n",
       "  \"result\": {\n",
       "    \"observed_value\": 3937.5,\n",
       "    \"element_count\": 1064,\n",
       "    \"missing_count\": null,\n",
       "    \"missing_percent\": null\n",
       "  },\n",
       "  \"meta\": {},\n",
       "  \"exception_info\": {\n",
       "    \"raised_exception\": false,\n",
       "    \"exception_traceback\": null,\n",
       "    \"exception_message\": null\n",
       "  }\n",
       "}"
      ]
     },
     "execution_count": 27,
     "metadata": {},
     "output_type": "execute_result"
    }
   ],
   "source": [
    "# 5.1 Expect median of column units_sold to be between 10 and 3950\n",
    "# untuk memvalidasi distribusi data dan memastikan median berada dalam nilai yang diharapkan untuk menjaga kualitas data.\n",
    "\n",
    "dataset.expect_column_median_to_be_between(\n",
    "    column=\"units_sold\",\n",
    "    min_value=10,\n",
    "    max_value=3950\n",
    ")\n"
   ]
  },
  {
   "cell_type": "code",
   "execution_count": 28,
   "metadata": {},
   "outputs": [
    {
     "data": {
      "text/plain": [
       "{\n",
       "  \"success\": true,\n",
       "  \"result\": {\n",
       "    \"observed_value\": 4.02,\n",
       "    \"element_count\": 1064,\n",
       "    \"missing_count\": null,\n",
       "    \"missing_percent\": null\n",
       "  },\n",
       "  \"meta\": {},\n",
       "  \"exception_info\": {\n",
       "    \"raised_exception\": false,\n",
       "    \"exception_traceback\": null,\n",
       "    \"exception_message\": null\n",
       "  }\n",
       "}"
      ]
     },
     "execution_count": 28,
     "metadata": {},
     "output_type": "execute_result"
    }
   ],
   "source": [
    "# 5.2 Expect median of column \"book_average_rating\" to be between 3 and 4.5\n",
    "dataset.expect_column_median_to_be_between(\n",
    "    column=\"book_average_rating\",\n",
    "    min_value=3,\n",
    "    max_value=4.5\n",
    ")\n"
   ]
  },
  {
   "cell_type": "code",
   "execution_count": 29,
   "metadata": {},
   "outputs": [
    {
     "data": {
      "text/plain": [
       "{\n",
       "  \"success\": true,\n",
       "  \"result\": {\n",
       "    \"observed_value\": 0.6860902255639098,\n",
       "    \"element_count\": 1064,\n",
       "    \"missing_count\": null,\n",
       "    \"missing_percent\": null\n",
       "  },\n",
       "  \"meta\": {},\n",
       "  \"exception_info\": {\n",
       "    \"raised_exception\": false,\n",
       "    \"exception_traceback\": null,\n",
       "    \"exception_message\": null\n",
       "  }\n",
       "}"
      ]
     },
     "execution_count": 29,
     "metadata": {},
     "output_type": "execute_result"
    }
   ],
   "source": [
    "# 6. Validate the proportion of unique values in the \"author\" column\n",
    "dataset.expect_column_proportion_of_unique_values_to_be_between(\n",
    "    column=\"author\",  # Kolom yang diuji adalah \"author\"\n",
    "    min_value=0.6, # Nilai minimum 10% untuk proporsi unik\n",
    "    max_value=1.0 # Nilai maksimum 100% untuk proporsi unik\n",
    ")"
   ]
  },
  {
   "cell_type": "code",
   "execution_count": 30,
   "metadata": {},
   "outputs": [
    {
     "data": {
      "text/plain": [
       "{\n",
       "  \"success\": true,\n",
       "  \"result\": {\n",
       "    \"observed_value\": 15\n",
       "  },\n",
       "  \"meta\": {},\n",
       "  \"exception_info\": {\n",
       "    \"raised_exception\": false,\n",
       "    \"exception_traceback\": null,\n",
       "    \"exception_message\": null\n",
       "  }\n",
       "}"
      ]
     },
     "execution_count": 30,
     "metadata": {},
     "output_type": "execute_result"
    }
   ],
   "source": [
    "# 7. Expectation to verify the number of columns in the table\n",
    "dataset.expect_table_column_count_to_equal(\n",
    "    value=15  # 15 adalah jumlah kolom yang diharapkan\n",
    ")\n"
   ]
  },
  {
   "cell_type": "code",
   "execution_count": 31,
   "metadata": {},
   "outputs": [
    {
     "data": {
      "text/plain": [
       "{\n",
       "  \"success\": true,\n",
       "  \"result\": {\n",
       "    \"element_count\": 1064,\n",
       "    \"missing_count\": 0,\n",
       "    \"missing_percent\": 0.0,\n",
       "    \"unexpected_count\": 0,\n",
       "    \"unexpected_percent\": 0.0,\n",
       "    \"unexpected_percent_total\": 0.0,\n",
       "    \"unexpected_percent_nonmissing\": 0.0,\n",
       "    \"partial_unexpected_list\": []\n",
       "  },\n",
       "  \"meta\": {},\n",
       "  \"exception_info\": {\n",
       "    \"raised_exception\": false,\n",
       "    \"exception_traceback\": null,\n",
       "    \"exception_message\": null\n",
       "  }\n",
       "}"
      ]
     },
     "execution_count": 31,
     "metadata": {},
     "output_type": "execute_result"
    }
   ],
   "source": [
    "# 8. Expectation to verify the length of values in the \"book_name\" column is between 3 and 150\n",
    "dataset.expect_column_value_lengths_to_be_between(\n",
    "    column=\"book_name\",  \n",
    "    min_value=3,\n",
    "    max_value=150\n",
    ")"
   ]
  },
  {
   "cell_type": "code",
   "execution_count": 32,
   "metadata": {},
   "outputs": [
    {
     "name": "stdout",
     "output_type": "stream",
     "text": [
      "{\n",
      "  \"success\": true,\n",
      "  \"results\": [\n",
      "    {\n",
      "      \"success\": true,\n",
      "      \"expectation_config\": {\n",
      "        \"expectation_type\": \"expect_column_values_to_be_unique\",\n",
      "        \"kwargs\": {\n",
      "          \"column\": \"index\",\n",
      "          \"result_format\": \"BASIC\"\n",
      "        },\n",
      "        \"meta\": {}\n",
      "      },\n",
      "      \"result\": {\n",
      "        \"element_count\": 1064,\n",
      "        \"missing_count\": 0,\n",
      "        \"missing_percent\": 0.0,\n",
      "        \"unexpected_count\": 0,\n",
      "        \"unexpected_percent\": 0.0,\n",
      "        \"unexpected_percent_total\": 0.0,\n",
      "        \"unexpected_percent_nonmissing\": 0.0,\n",
      "        \"partial_unexpected_list\": []\n",
      "      },\n",
      "      \"meta\": {},\n",
      "      \"exception_info\": {\n",
      "        \"raised_exception\": false,\n",
      "        \"exception_message\": null,\n",
      "        \"exception_traceback\": null\n",
      "      }\n",
      "    },\n",
      "    {\n",
      "      \"success\": true,\n",
      "      \"expectation_config\": {\n",
      "        \"expectation_type\": \"expect_column_values_to_be_between\",\n",
      "        \"kwargs\": {\n",
      "          \"column\": \"publishing_year\",\n",
      "          \"min_value\": 1300,\n",
      "          \"max_value\": 2025,\n",
      "          \"result_format\": \"BASIC\"\n",
      "        },\n",
      "        \"meta\": {}\n",
      "      },\n",
      "      \"result\": {\n",
      "        \"element_count\": 1064,\n",
      "        \"missing_count\": 0,\n",
      "        \"missing_percent\": 0.0,\n",
      "        \"unexpected_count\": 0,\n",
      "        \"unexpected_percent\": 0.0,\n",
      "        \"unexpected_percent_total\": 0.0,\n",
      "        \"unexpected_percent_nonmissing\": 0.0,\n",
      "        \"partial_unexpected_list\": []\n",
      "      },\n",
      "      \"meta\": {},\n",
      "      \"exception_info\": {\n",
      "        \"raised_exception\": false,\n",
      "        \"exception_message\": null,\n",
      "        \"exception_traceback\": null\n",
      "      }\n",
      "    },\n",
      "    {\n",
      "      \"success\": true,\n",
      "      \"expectation_config\": {\n",
      "        \"expectation_type\": \"expect_column_values_to_be_of_type\",\n",
      "        \"kwargs\": {\n",
      "          \"column\": \"publishing_year\",\n",
      "          \"type_\": \"int64\",\n",
      "          \"result_format\": \"BASIC\"\n",
      "        },\n",
      "        \"meta\": {}\n",
      "      },\n",
      "      \"result\": {\n",
      "        \"observed_value\": \"int64\"\n",
      "      },\n",
      "      \"meta\": {},\n",
      "      \"exception_info\": {\n",
      "        \"raised_exception\": false,\n",
      "        \"exception_message\": null,\n",
      "        \"exception_traceback\": null\n",
      "      }\n",
      "    },\n",
      "    {\n",
      "      \"success\": true,\n",
      "      \"expectation_config\": {\n",
      "        \"expectation_type\": \"expect_column_values_to_be_between\",\n",
      "        \"kwargs\": {\n",
      "          \"column\": \"units_sold\",\n",
      "          \"min_value\": 0,\n",
      "          \"max_value\": 80000,\n",
      "          \"result_format\": \"BASIC\"\n",
      "        },\n",
      "        \"meta\": {}\n",
      "      },\n",
      "      \"result\": {\n",
      "        \"element_count\": 1064,\n",
      "        \"missing_count\": 0,\n",
      "        \"missing_percent\": 0.0,\n",
      "        \"unexpected_count\": 0,\n",
      "        \"unexpected_percent\": 0.0,\n",
      "        \"unexpected_percent_total\": 0.0,\n",
      "        \"unexpected_percent_nonmissing\": 0.0,\n",
      "        \"partial_unexpected_list\": []\n",
      "      },\n",
      "      \"meta\": {},\n",
      "      \"exception_info\": {\n",
      "        \"raised_exception\": false,\n",
      "        \"exception_message\": null,\n",
      "        \"exception_traceback\": null\n",
      "      }\n",
      "    },\n",
      "    {\n",
      "      \"success\": true,\n",
      "      \"expectation_config\": {\n",
      "        \"expectation_type\": \"expect_column_median_to_be_between\",\n",
      "        \"kwargs\": {\n",
      "          \"column\": \"units_sold\",\n",
      "          \"min_value\": 10,\n",
      "          \"max_value\": 3950,\n",
      "          \"result_format\": \"BASIC\"\n",
      "        },\n",
      "        \"meta\": {}\n",
      "      },\n",
      "      \"result\": {\n",
      "        \"observed_value\": 3937.5,\n",
      "        \"element_count\": 1064,\n",
      "        \"missing_count\": null,\n",
      "        \"missing_percent\": null\n",
      "      },\n",
      "      \"meta\": {},\n",
      "      \"exception_info\": {\n",
      "        \"raised_exception\": false,\n",
      "        \"exception_message\": null,\n",
      "        \"exception_traceback\": null\n",
      "      }\n",
      "    },\n",
      "    {\n",
      "      \"success\": true,\n",
      "      \"expectation_config\": {\n",
      "        \"expectation_type\": \"expect_column_values_to_be_between\",\n",
      "        \"kwargs\": {\n",
      "          \"column\": \"sales_rank\",\n",
      "          \"min_value\": 1,\n",
      "          \"max_value\": 2000,\n",
      "          \"result_format\": \"BASIC\"\n",
      "        },\n",
      "        \"meta\": {}\n",
      "      },\n",
      "      \"result\": {\n",
      "        \"element_count\": 1064,\n",
      "        \"missing_count\": 0,\n",
      "        \"missing_percent\": 0.0,\n",
      "        \"unexpected_count\": 0,\n",
      "        \"unexpected_percent\": 0.0,\n",
      "        \"unexpected_percent_total\": 0.0,\n",
      "        \"unexpected_percent_nonmissing\": 0.0,\n",
      "        \"partial_unexpected_list\": []\n",
      "      },\n",
      "      \"meta\": {},\n",
      "      \"exception_info\": {\n",
      "        \"raised_exception\": false,\n",
      "        \"exception_message\": null,\n",
      "        \"exception_traceback\": null\n",
      "      }\n",
      "    },\n",
      "    {\n",
      "      \"success\": true,\n",
      "      \"expectation_config\": {\n",
      "        \"expectation_type\": \"expect_column_values_to_be_in_set\",\n",
      "        \"kwargs\": {\n",
      "          \"column\": \"language_code\",\n",
      "          \"value_set\": [\n",
      "            \"en-US\",\n",
      "            \"eng\",\n",
      "            \"spa\",\n",
      "            \"en-GB\",\n",
      "            \"fre\",\n",
      "            \"en-CA\",\n",
      "            \"nl\",\n",
      "            \"ara\"\n",
      "          ],\n",
      "          \"result_format\": \"BASIC\"\n",
      "        },\n",
      "        \"meta\": {}\n",
      "      },\n",
      "      \"result\": {\n",
      "        \"element_count\": 1064,\n",
      "        \"missing_count\": 0,\n",
      "        \"missing_percent\": 0.0,\n",
      "        \"unexpected_count\": 0,\n",
      "        \"unexpected_percent\": 0.0,\n",
      "        \"unexpected_percent_total\": 0.0,\n",
      "        \"unexpected_percent_nonmissing\": 0.0,\n",
      "        \"partial_unexpected_list\": []\n",
      "      },\n",
      "      \"meta\": {},\n",
      "      \"exception_info\": {\n",
      "        \"raised_exception\": false,\n",
      "        \"exception_message\": null,\n",
      "        \"exception_traceback\": null\n",
      "      }\n",
      "    },\n",
      "    {\n",
      "      \"success\": true,\n",
      "      \"expectation_config\": {\n",
      "        \"expectation_type\": \"expect_column_median_to_be_between\",\n",
      "        \"kwargs\": {\n",
      "          \"column\": \"book_average_rating\",\n",
      "          \"min_value\": 3,\n",
      "          \"max_value\": 4.5,\n",
      "          \"result_format\": \"BASIC\"\n",
      "        },\n",
      "        \"meta\": {}\n",
      "      },\n",
      "      \"result\": {\n",
      "        \"observed_value\": 4.02,\n",
      "        \"element_count\": 1064,\n",
      "        \"missing_count\": null,\n",
      "        \"missing_percent\": null\n",
      "      },\n",
      "      \"meta\": {},\n",
      "      \"exception_info\": {\n",
      "        \"raised_exception\": false,\n",
      "        \"exception_message\": null,\n",
      "        \"exception_traceback\": null\n",
      "      }\n",
      "    },\n",
      "    {\n",
      "      \"success\": true,\n",
      "      \"expectation_config\": {\n",
      "        \"expectation_type\": \"expect_column_proportion_of_unique_values_to_be_between\",\n",
      "        \"kwargs\": {\n",
      "          \"column\": \"author\",\n",
      "          \"min_value\": 0.6,\n",
      "          \"max_value\": 1.0,\n",
      "          \"result_format\": \"BASIC\"\n",
      "        },\n",
      "        \"meta\": {}\n",
      "      },\n",
      "      \"result\": {\n",
      "        \"observed_value\": 0.6860902255639098,\n",
      "        \"element_count\": 1064,\n",
      "        \"missing_count\": null,\n",
      "        \"missing_percent\": null\n",
      "      },\n",
      "      \"meta\": {},\n",
      "      \"exception_info\": {\n",
      "        \"raised_exception\": false,\n",
      "        \"exception_message\": null,\n",
      "        \"exception_traceback\": null\n",
      "      }\n",
      "    },\n",
      "    {\n",
      "      \"success\": true,\n",
      "      \"expectation_config\": {\n",
      "        \"expectation_type\": \"expect_table_column_count_to_equal\",\n",
      "        \"kwargs\": {\n",
      "          \"value\": 15,\n",
      "          \"result_format\": \"BASIC\"\n",
      "        },\n",
      "        \"meta\": {}\n",
      "      },\n",
      "      \"result\": {\n",
      "        \"observed_value\": 15\n",
      "      },\n",
      "      \"meta\": {},\n",
      "      \"exception_info\": {\n",
      "        \"raised_exception\": false,\n",
      "        \"exception_message\": null,\n",
      "        \"exception_traceback\": null\n",
      "      }\n",
      "    },\n",
      "    {\n",
      "      \"success\": true,\n",
      "      \"expectation_config\": {\n",
      "        \"expectation_type\": \"expect_column_value_lengths_to_be_between\",\n",
      "        \"kwargs\": {\n",
      "          \"column\": \"book_name\",\n",
      "          \"min_value\": 3,\n",
      "          \"max_value\": 150,\n",
      "          \"result_format\": \"BASIC\"\n",
      "        },\n",
      "        \"meta\": {}\n",
      "      },\n",
      "      \"result\": {\n",
      "        \"element_count\": 1064,\n",
      "        \"missing_count\": 0,\n",
      "        \"missing_percent\": 0.0,\n",
      "        \"unexpected_count\": 0,\n",
      "        \"unexpected_percent\": 0.0,\n",
      "        \"unexpected_percent_total\": 0.0,\n",
      "        \"unexpected_percent_nonmissing\": 0.0,\n",
      "        \"partial_unexpected_list\": []\n",
      "      },\n",
      "      \"meta\": {},\n",
      "      \"exception_info\": {\n",
      "        \"raised_exception\": false,\n",
      "        \"exception_message\": null,\n",
      "        \"exception_traceback\": null\n",
      "      }\n",
      "    }\n",
      "  ],\n",
      "  \"evaluation_parameters\": {},\n",
      "  \"statistics\": {\n",
      "    \"evaluated_expectations\": 11,\n",
      "    \"successful_expectations\": 11,\n",
      "    \"unsuccessful_expectations\": 0,\n",
      "    \"success_percent\": 100.0\n",
      "  },\n",
      "  \"meta\": {\n",
      "    \"great_expectations_version\": \"0.15.45\",\n",
      "    \"expectation_suite_name\": \"default\",\n",
      "    \"run_id\": {\n",
      "      \"run_name\": null,\n",
      "      \"run_time\": \"2025-01-12T19:42:46.057818+00:00\"\n",
      "    },\n",
      "    \"batch_kwargs\": {\n",
      "      \"ge_batch_id\": \"650e87bd-d11d-11ef-ac65-04ea565257eb\"\n",
      "    },\n",
      "    \"batch_markers\": {},\n",
      "    \"batch_parameters\": {},\n",
      "    \"validation_time\": \"20250112T194246.057818Z\",\n",
      "    \"expectation_suite_meta\": {\n",
      "      \"great_expectations_version\": \"0.15.45\"\n",
      "    }\n",
      "  }\n",
      "}\n"
     ]
    }
   ],
   "source": [
    "# Validate the dataset\n",
    "results = dataset.validate()\n",
    "print(results)\n"
   ]
  }
 ],
 "metadata": {
  "kernelspec": {
   "display_name": "base",
   "language": "python",
   "name": "python3"
  },
  "language_info": {
   "codemirror_mode": {
    "name": "ipython",
    "version": 3
   },
   "file_extension": ".py",
   "mimetype": "text/x-python",
   "name": "python",
   "nbconvert_exporter": "python",
   "pygments_lexer": "ipython3",
   "version": "3.9.19"
  },
  "orig_nbformat": 4
 },
 "nbformat": 4,
 "nbformat_minor": 2
}
